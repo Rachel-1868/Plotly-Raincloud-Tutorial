{
 "cells": [
  {
   "cell_type": "markdown",
   "id": "ff89aae0",
   "metadata": {},
   "source": [
    "### I will be demonstrating in a series of steps how to build a raincloud plot! This special plot combines box, scatter, and KDE plots together in a cohesive and interesting manner. "
   ]
  },
  {
   "cell_type": "markdown",
   "id": "09d4917d",
   "metadata": {},
   "source": [
    "First, import the necessary python packages."
   ]
  },
  {
   "cell_type": "code",
   "execution_count": null,
   "id": "f4b36272",
   "metadata": {},
   "outputs": [],
   "source": [
    "import pandas as pd\n",
    "import plotly.graph_objects as go\n",
    "import numpy as np"
   ]
  },
  {
   "cell_type": "markdown",
   "id": "9f02d9dd",
   "metadata": {},
   "source": [
    "Next, import the data. I am using the dataset Palmer Penguins, which is publically available."
   ]
  },
  {
   "cell_type": "code",
   "execution_count": 7,
   "id": "019e8edc",
   "metadata": {},
   "outputs": [
    {
     "data": {
      "text/html": [
       "<div>\n",
       "<style scoped>\n",
       "    .dataframe tbody tr th:only-of-type {\n",
       "        vertical-align: middle;\n",
       "    }\n",
       "\n",
       "    .dataframe tbody tr th {\n",
       "        vertical-align: top;\n",
       "    }\n",
       "\n",
       "    .dataframe thead th {\n",
       "        text-align: right;\n",
       "    }\n",
       "</style>\n",
       "<table border=\"1\" class=\"dataframe\">\n",
       "  <thead>\n",
       "    <tr style=\"text-align: right;\">\n",
       "      <th></th>\n",
       "      <th>species</th>\n",
       "      <th>bill_length_mm</th>\n",
       "      <th>bill_depth_mm</th>\n",
       "      <th>flipper_length_mm</th>\n",
       "      <th>body_mass_g</th>\n",
       "    </tr>\n",
       "  </thead>\n",
       "  <tbody>\n",
       "    <tr>\n",
       "      <th>0</th>\n",
       "      <td>Chinstrap</td>\n",
       "      <td>46.7</td>\n",
       "      <td>17.9</td>\n",
       "      <td>195.0</td>\n",
       "      <td>3300.0</td>\n",
       "    </tr>\n",
       "    <tr>\n",
       "      <th>1</th>\n",
       "      <td>Adelie</td>\n",
       "      <td>35.9</td>\n",
       "      <td>16.6</td>\n",
       "      <td>190.0</td>\n",
       "      <td>3050.0</td>\n",
       "    </tr>\n",
       "    <tr>\n",
       "      <th>2</th>\n",
       "      <td>Adelie</td>\n",
       "      <td>36.6</td>\n",
       "      <td>17.8</td>\n",
       "      <td>185.0</td>\n",
       "      <td>3700.0</td>\n",
       "    </tr>\n",
       "    <tr>\n",
       "      <th>3</th>\n",
       "      <td>Adelie</td>\n",
       "      <td>37.8</td>\n",
       "      <td>18.3</td>\n",
       "      <td>174.0</td>\n",
       "      <td>3400.0</td>\n",
       "    </tr>\n",
       "    <tr>\n",
       "      <th>4</th>\n",
       "      <td>Adelie</td>\n",
       "      <td>35.5</td>\n",
       "      <td>17.5</td>\n",
       "      <td>190.0</td>\n",
       "      <td>3700.0</td>\n",
       "    </tr>\n",
       "  </tbody>\n",
       "</table>\n",
       "</div>"
      ],
      "text/plain": [
       "     species  bill_length_mm  bill_depth_mm  flipper_length_mm  body_mass_g\n",
       "0  Chinstrap            46.7           17.9              195.0       3300.0\n",
       "1     Adelie            35.9           16.6              190.0       3050.0\n",
       "2     Adelie            36.6           17.8              185.0       3700.0\n",
       "3     Adelie            37.8           18.3              174.0       3400.0\n",
       "4     Adelie            35.5           17.5              190.0       3700.0"
      ]
     },
     "execution_count": 7,
     "metadata": {},
     "output_type": "execute_result"
    }
   ],
   "source": [
    "data = pd.read_csv(\"penguins.csv\")\n",
    "data = data.dropna()\n",
    "data.head()"
   ]
  },
  {
   "cell_type": "markdown",
   "id": "093ccd7f",
   "metadata": {},
   "source": [
    "Now, define the penguin species list, initialize the figure, and choose your colors! It is recommended to use colors with hues different than one another in order to be colorblind friendly and to avoid confusion (Few et al.). Keep in mind that color is usually not necessary. In this case, however, I wanted to tell a small story with the color, where blue represents the arctic where these penguins are found (Data Feminism, D'Ignazio and Klein)."
   ]
  },
  {
   "cell_type": "code",
   "execution_count": 13,
   "id": "42c8ef8e",
   "metadata": {},
   "outputs": [],
   "source": [
    "species_list = df['species'].unique()\n",
    "raincloud_fig = go.Figure()\n",
    "\n",
    "colors = {\n",
    "    \"Adelie\": \"#08306B\", #all different hues of blue\n",
    "    \"Gentoo\": \"#2171B5\",\n",
    "    \"Chinstrap\": \"#6BAED6\"}"
   ]
  },
  {
   "cell_type": "markdown",
   "id": "2951ce63",
   "metadata": {},
   "source": [
    "Next, begin adding to your plot. The code will go through the species list previously defines, and add a half violin plot and a box plot. The \"jitter\" in the code adds to the rain effect in the plot. It spreads out the scatter points to align with the distribution."
   ]
  },
  {
   "cell_type": "code",
   "execution_count": 14,
   "id": "8e86c140",
   "metadata": {},
   "outputs": [],
   "source": [
    "for i, species in enumerate(species_list):\n",
    "    subset = df[df['species'] == species]\n",
    "\n",
    "    # Half violin (distribution)\n",
    "    raincloud_fig.add_trace(go.Violin(\n",
    "        x=[i]*len(subset),\n",
    "        y=subset['flipper_length_mm'],\n",
    "        name=species,\n",
    "        side='positive',\n",
    "        line_color='black',\n",
    "        fillcolor=colors[species],\n",
    "        width=0.6,\n",
    "        points=False,\n",
    "        spanmode='hard',\n",
    "        showlegend=False))\n",
    "\n",
    "    # Box plot\n",
    "    raincloud_fig.add_trace(go.Box(\n",
    "        x=[i]*len(subset),\n",
    "        y=subset['flipper_length_mm'],\n",
    "        name=species,\n",
    "        marker_color='black',\n",
    "        width=0.2,\n",
    "        boxpoints=False,\n",
    "        showlegend=False))\n",
    "    \n",
    "    # Jittered scatter plot\n",
    "    jitter_strength = 0.15\n",
    "    x_jittered = np.random.uniform(-jitter_strength, jitter_strength, size=len(subset)) + i #adding jitter to points\n",
    "\n",
    "    raincloud_fig.add_trace(go.Scatter(\n",
    "        x=x_jittered,\n",
    "        y=subset['flipper_length_mm'],\n",
    "        mode='markers',\n",
    "        marker=dict(color=colors[species], opacity=0.4, size=5), #scatter point aesthetics\n",
    "        name=species,\n",
    "        showlegend=False))"
   ]
  },
  {
   "cell_type": "markdown",
   "id": "1f15acbf",
   "metadata": {},
   "source": [
    "Lastly, but very importantly, there is a lot to change **aesthetically**. Basic Plotly graphs look okay, but there are many ways in which they can be improved. For example, setting the background color to white, getting rid of zero axis lines, changing x and y axis titles, adding a grid, and adjusting the font weight (Tufte chapters 5, 6). All of these things combined help make a more cohesive and simple raincloud plot!"
   ]
  },
  {
   "cell_type": "code",
   "execution_count": 17,
   "id": "15e7223b",
   "metadata": {},
   "outputs": [
    {
     "data": {
      "application/vnd.plotly.v1+json": {
       "config": {
        "plotlyServerURL": "https://plot.ly"
       },
       "data": [
        {
         "fillcolor": "#6BAED6",
         "line": {
          "color": "black"
         },
         "name": "Chinstrap",
         "points": false,
         "showlegend": false,
         "side": "positive",
         "spanmode": "hard",
         "type": "violin",
         "width": 0.6,
         "x": [
          0,
          0,
          0,
          0,
          0,
          0,
          0,
          0,
          0,
          0,
          0,
          0,
          0,
          0,
          0,
          0,
          0,
          0,
          0,
          0,
          0,
          0,
          0,
          0,
          0,
          0,
          0,
          0,
          0,
          0
         ],
         "y": [
          195,
          194,
          203,
          196,
          187,
          193,
          210,
          197,
          181,
          195,
          191,
          191,
          197,
          201,
          192,
          193,
          201,
          200,
          195,
          196,
          193,
          192,
          190,
          187,
          198,
          207,
          194,
          187,
          210,
          178
         ]
        },
        {
         "boxpoints": false,
         "marker": {
          "color": "black"
         },
         "name": "Chinstrap",
         "showlegend": false,
         "type": "box",
         "width": 0.2,
         "x": [
          0,
          0,
          0,
          0,
          0,
          0,
          0,
          0,
          0,
          0,
          0,
          0,
          0,
          0,
          0,
          0,
          0,
          0,
          0,
          0,
          0,
          0,
          0,
          0,
          0,
          0,
          0,
          0,
          0,
          0
         ],
         "y": [
          195,
          194,
          203,
          196,
          187,
          193,
          210,
          197,
          181,
          195,
          191,
          191,
          197,
          201,
          192,
          193,
          201,
          200,
          195,
          196,
          193,
          192,
          190,
          187,
          198,
          207,
          194,
          187,
          210,
          178
         ]
        },
        {
         "marker": {
          "color": "#6BAED6",
          "opacity": 0.4,
          "size": 5
         },
         "mode": "markers",
         "name": "Chinstrap",
         "showlegend": false,
         "type": "scatter",
         "x": [
          -0.05675034262829211,
          0.10575445002360614,
          -0.09445046050282899,
          0.11086072518836135,
          0.06977134229485421,
          0.033534175005781236,
          0.08017760327965706,
          0.06068633880789043,
          -0.09203638658359767,
          0.14194181541098408,
          0.10160545927485612,
          0.1256329580177146,
          -0.13580699283922953,
          0.02453507786573586,
          -0.03303684024509207,
          0.11148004869617881,
          0.057466882979440276,
          -0.057845827715105505,
          0.13521555537310595,
          0.10798649446369427,
          0.042640489274210075,
          0.08498209194348832,
          0.049656646741372296,
          0.05102436979867758,
          -0.07007657345194185,
          0.08960641359047539,
          -0.143199013353131,
          0.133768659747957,
          0.0980470012024876,
          0.10852147794659492
         ],
         "y": [
          195,
          194,
          203,
          196,
          187,
          193,
          210,
          197,
          181,
          195,
          191,
          191,
          197,
          201,
          192,
          193,
          201,
          200,
          195,
          196,
          193,
          192,
          190,
          187,
          198,
          207,
          194,
          187,
          210,
          178
         ]
        },
        {
         "fillcolor": "#08306B",
         "line": {
          "color": "black"
         },
         "name": "Adelie",
         "points": false,
         "showlegend": false,
         "side": "positive",
         "spanmode": "hard",
         "type": "violin",
         "width": 0.6,
         "x": [
          1,
          1,
          1,
          1,
          1,
          1,
          1,
          1,
          1,
          1,
          1,
          1,
          1,
          1,
          1,
          1,
          1,
          1,
          1,
          1,
          1,
          1,
          1,
          1,
          1,
          1,
          1,
          1,
          1,
          1,
          1,
          1,
          1,
          1,
          1,
          1,
          1,
          1,
          1,
          1,
          1,
          1,
          1,
          1,
          1,
          1,
          1,
          1,
          1,
          1,
          1,
          1,
          1,
          1,
          1,
          1,
          1,
          1,
          1,
          1,
          1,
          1,
          1,
          1,
          1,
          1,
          1,
          1,
          1,
          1,
          1,
          1
         ],
         "y": [
          190,
          185,
          174,
          190,
          187,
          192,
          182,
          184,
          185,
          184,
          185,
          187,
          180,
          187,
          195,
          186,
          192,
          189,
          186,
          192,
          190,
          199,
          193,
          185,
          202,
          181,
          210,
          199,
          189,
          191,
          193,
          196,
          192,
          197,
          197,
          190,
          191,
          180,
          203,
          189,
          190,
          184,
          186,
          200,
          176,
          197,
          190,
          186,
          190,
          188,
          195,
          195,
          195,
          186,
          184,
          200,
          189,
          195,
          191,
          190,
          181,
          191,
          201,
          194,
          187,
          178,
          190,
          195,
          196,
          190,
          193,
          193
         ]
        },
        {
         "boxpoints": false,
         "marker": {
          "color": "black"
         },
         "name": "Adelie",
         "showlegend": false,
         "type": "box",
         "width": 0.2,
         "x": [
          1,
          1,
          1,
          1,
          1,
          1,
          1,
          1,
          1,
          1,
          1,
          1,
          1,
          1,
          1,
          1,
          1,
          1,
          1,
          1,
          1,
          1,
          1,
          1,
          1,
          1,
          1,
          1,
          1,
          1,
          1,
          1,
          1,
          1,
          1,
          1,
          1,
          1,
          1,
          1,
          1,
          1,
          1,
          1,
          1,
          1,
          1,
          1,
          1,
          1,
          1,
          1,
          1,
          1,
          1,
          1,
          1,
          1,
          1,
          1,
          1,
          1,
          1,
          1,
          1,
          1,
          1,
          1,
          1,
          1,
          1,
          1
         ],
         "y": [
          190,
          185,
          174,
          190,
          187,
          192,
          182,
          184,
          185,
          184,
          185,
          187,
          180,
          187,
          195,
          186,
          192,
          189,
          186,
          192,
          190,
          199,
          193,
          185,
          202,
          181,
          210,
          199,
          189,
          191,
          193,
          196,
          192,
          197,
          197,
          190,
          191,
          180,
          203,
          189,
          190,
          184,
          186,
          200,
          176,
          197,
          190,
          186,
          190,
          188,
          195,
          195,
          195,
          186,
          184,
          200,
          189,
          195,
          191,
          190,
          181,
          191,
          201,
          194,
          187,
          178,
          190,
          195,
          196,
          190,
          193,
          193
         ]
        },
        {
         "marker": {
          "color": "#08306B",
          "opacity": 0.4,
          "size": 5
         },
         "mode": "markers",
         "name": "Adelie",
         "showlegend": false,
         "type": "scatter",
         "x": [
          1.0980945116957155,
          1.1320851720077623,
          1.059968409300787,
          1.1275793664490095,
          1.0947912888689977,
          0.8767966811006693,
          0.9880282470968802,
          1.1483389807577273,
          1.0782525750048775,
          0.9366420134529629,
          1.064635097377305,
          0.8855929792921027,
          0.999911462557945,
          1.1257656157381128,
          0.9527242380372541,
          1.0001760669562088,
          1.1172443720674494,
          0.8972465032519986,
          0.8855752514631572,
          1.1262419244907027,
          1.0124452752383053,
          1.1097636027192193,
          1.0833559951546048,
          0.9611982091514247,
          1.0145193666894738,
          0.981824816181921,
          1.1134304802195274,
          1.0546917093871986,
          0.9221159711405321,
          0.9906745221607477,
          0.9166104144370382,
          0.9456466672815823,
          1.0073522338585446,
          0.992770045343702,
          0.8656854103955058,
          0.966765212554525,
          0.9572860197979455,
          0.9887075286075755,
          0.9902991155298733,
          1.0442781572743571,
          1.1329524795844974,
          0.9722215766931283,
          0.9639462468506212,
          1.1179975775406528,
          1.1437108857713432,
          1.0558384627808295,
          0.9467609021146846,
          1.047780376998739,
          1.027759322235649,
          0.9314325696798629,
          0.8722843966569996,
          0.9501530163801609,
          1.0742338193267793,
          1.0453485478498274,
          0.9420290519122103,
          1.132338246706967,
          1.1245982933026455,
          0.9976622007452137,
          1.1235676519001379,
          0.9965683375929266,
          0.9333470292472111,
          1.0525547013892784,
          1.1255805612366678,
          0.9254749860151434,
          0.9570074859255764,
          0.9323864439378119,
          1.146530872507906,
          0.8973483010390941,
          1.0337343132384154,
          1.1285877858990245,
          0.9082552343236283,
          0.9861106848230369
         ],
         "y": [
          190,
          185,
          174,
          190,
          187,
          192,
          182,
          184,
          185,
          184,
          185,
          187,
          180,
          187,
          195,
          186,
          192,
          189,
          186,
          192,
          190,
          199,
          193,
          185,
          202,
          181,
          210,
          199,
          189,
          191,
          193,
          196,
          192,
          197,
          197,
          190,
          191,
          180,
          203,
          189,
          190,
          184,
          186,
          200,
          176,
          197,
          190,
          186,
          190,
          188,
          195,
          195,
          195,
          186,
          184,
          200,
          189,
          195,
          191,
          190,
          181,
          191,
          201,
          194,
          187,
          178,
          190,
          195,
          196,
          190,
          193,
          193
         ]
        },
        {
         "fillcolor": "#2171B5",
         "line": {
          "color": "black"
         },
         "name": "Gentoo",
         "points": false,
         "showlegend": false,
         "side": "positive",
         "spanmode": "hard",
         "type": "violin",
         "width": 0.6,
         "x": [
          2,
          2,
          2,
          2,
          2,
          2,
          2,
          2,
          2,
          2,
          2,
          2,
          2,
          2,
          2,
          2,
          2,
          2,
          2,
          2,
          2,
          2,
          2,
          2,
          2,
          2,
          2,
          2,
          2,
          2,
          2,
          2,
          2,
          2,
          2,
          2,
          2,
          2,
          2,
          2,
          2,
          2,
          2,
          2,
          2,
          2,
          2,
          2,
          2,
          2,
          2,
          2,
          2,
          2,
          2,
          2,
          2,
          2,
          2,
          2,
          2,
          2,
          2,
          2,
          2
         ],
         "y": [
          222,
          230,
          223,
          211,
          219,
          214,
          215,
          224,
          216,
          217,
          210,
          223,
          215,
          228,
          212,
          213,
          230,
          214,
          222,
          215,
          213,
          219,
          210,
          214,
          220,
          230,
          225,
          228,
          218,
          215,
          216,
          222,
          213,
          210,
          216,
          217,
          208,
          210,
          216,
          220,
          225,
          221,
          213,
          217,
          210,
          212,
          212,
          217,
          213,
          219,
          212,
          216,
          214,
          216,
          208,
          221,
          220,
          228,
          210,
          230,
          210,
          228,
          209,
          209,
          210
         ]
        },
        {
         "boxpoints": false,
         "marker": {
          "color": "black"
         },
         "name": "Gentoo",
         "showlegend": false,
         "type": "box",
         "width": 0.2,
         "x": [
          2,
          2,
          2,
          2,
          2,
          2,
          2,
          2,
          2,
          2,
          2,
          2,
          2,
          2,
          2,
          2,
          2,
          2,
          2,
          2,
          2,
          2,
          2,
          2,
          2,
          2,
          2,
          2,
          2,
          2,
          2,
          2,
          2,
          2,
          2,
          2,
          2,
          2,
          2,
          2,
          2,
          2,
          2,
          2,
          2,
          2,
          2,
          2,
          2,
          2,
          2,
          2,
          2,
          2,
          2,
          2,
          2,
          2,
          2,
          2,
          2,
          2,
          2,
          2,
          2
         ],
         "y": [
          222,
          230,
          223,
          211,
          219,
          214,
          215,
          224,
          216,
          217,
          210,
          223,
          215,
          228,
          212,
          213,
          230,
          214,
          222,
          215,
          213,
          219,
          210,
          214,
          220,
          230,
          225,
          228,
          218,
          215,
          216,
          222,
          213,
          210,
          216,
          217,
          208,
          210,
          216,
          220,
          225,
          221,
          213,
          217,
          210,
          212,
          212,
          217,
          213,
          219,
          212,
          216,
          214,
          216,
          208,
          221,
          220,
          228,
          210,
          230,
          210,
          228,
          209,
          209,
          210
         ]
        },
        {
         "marker": {
          "color": "#2171B5",
          "opacity": 0.4,
          "size": 5
         },
         "mode": "markers",
         "name": "Gentoo",
         "showlegend": false,
         "type": "scatter",
         "x": [
          2.0410581405049575,
          1.879190526210531,
          1.9841907197734991,
          1.9802517085181959,
          1.934922611111454,
          1.8663308722266163,
          1.971185986207975,
          2.058329992643347,
          2.114714873873336,
          2.1126744959249795,
          1.9092194096306057,
          1.9724185340434452,
          2.0910915132191614,
          2.0735327103751398,
          1.9289966646615064,
          1.9940177275531936,
          2.0538926297427818,
          1.8803902881201369,
          1.973542356565014,
          1.9860232333263566,
          1.8649718523715948,
          1.8710782744298853,
          2.117770840508061,
          2.1368762646434134,
          1.9430709023413293,
          2.0393474993725222,
          2.106619670341324,
          2.0510306735995445,
          2.0659834167613966,
          2.1486595207617367,
          2.0694923044988363,
          2.008943301150458,
          2.1300882696764774,
          1.9135434482482614,
          2.0691070627392,
          2.0305164149440085,
          2.0214103988431225,
          2.0607788260712088,
          2.041607602329058,
          1.8784190099760671,
          2.0265007701782354,
          2.1393980750285944,
          2.0938989990389816,
          1.9481436890200323,
          1.9948236430288497,
          2.0681520436600622,
          2.1342309705014726,
          2.0660929186190735,
          2.127158849616885,
          2.0745419119411213,
          1.8596371525752526,
          2.060431791679651,
          2.1395280829652177,
          1.9415737472034569,
          2.0972388300478477,
          1.913900303460232,
          2.024553366759943,
          2.0335222039044902,
          1.9877836430649067,
          2.1467444845218395,
          1.9194648101993563,
          1.8515693266210624,
          2.0798071954541113,
          2.0342479159451927,
          2.106191139620765
         ],
         "y": [
          222,
          230,
          223,
          211,
          219,
          214,
          215,
          224,
          216,
          217,
          210,
          223,
          215,
          228,
          212,
          213,
          230,
          214,
          222,
          215,
          213,
          219,
          210,
          214,
          220,
          230,
          225,
          228,
          218,
          215,
          216,
          222,
          213,
          210,
          216,
          217,
          208,
          210,
          216,
          220,
          225,
          221,
          213,
          217,
          210,
          212,
          212,
          217,
          213,
          219,
          212,
          216,
          214,
          216,
          208,
          221,
          220,
          228,
          210,
          230,
          210,
          228,
          209,
          209,
          210
         ]
        }
       ],
       "layout": {
        "font": {
         "size": 14
        },
        "template": {
         "data": {
          "bar": [
           {
            "error_x": {
             "color": "rgb(36,36,36)"
            },
            "error_y": {
             "color": "rgb(36,36,36)"
            },
            "marker": {
             "line": {
              "color": "white",
              "width": 0.5
             },
             "pattern": {
              "fillmode": "overlay",
              "size": 10,
              "solidity": 0.2
             }
            },
            "type": "bar"
           }
          ],
          "barpolar": [
           {
            "marker": {
             "line": {
              "color": "white",
              "width": 0.5
             },
             "pattern": {
              "fillmode": "overlay",
              "size": 10,
              "solidity": 0.2
             }
            },
            "type": "barpolar"
           }
          ],
          "carpet": [
           {
            "aaxis": {
             "endlinecolor": "rgb(36,36,36)",
             "gridcolor": "white",
             "linecolor": "white",
             "minorgridcolor": "white",
             "startlinecolor": "rgb(36,36,36)"
            },
            "baxis": {
             "endlinecolor": "rgb(36,36,36)",
             "gridcolor": "white",
             "linecolor": "white",
             "minorgridcolor": "white",
             "startlinecolor": "rgb(36,36,36)"
            },
            "type": "carpet"
           }
          ],
          "choropleth": [
           {
            "colorbar": {
             "outlinewidth": 1,
             "tickcolor": "rgb(36,36,36)",
             "ticks": "outside"
            },
            "type": "choropleth"
           }
          ],
          "contour": [
           {
            "colorbar": {
             "outlinewidth": 1,
             "tickcolor": "rgb(36,36,36)",
             "ticks": "outside"
            },
            "colorscale": [
             [
              0,
              "#440154"
             ],
             [
              0.1111111111111111,
              "#482878"
             ],
             [
              0.2222222222222222,
              "#3e4989"
             ],
             [
              0.3333333333333333,
              "#31688e"
             ],
             [
              0.4444444444444444,
              "#26828e"
             ],
             [
              0.5555555555555556,
              "#1f9e89"
             ],
             [
              0.6666666666666666,
              "#35b779"
             ],
             [
              0.7777777777777778,
              "#6ece58"
             ],
             [
              0.8888888888888888,
              "#b5de2b"
             ],
             [
              1,
              "#fde725"
             ]
            ],
            "type": "contour"
           }
          ],
          "contourcarpet": [
           {
            "colorbar": {
             "outlinewidth": 1,
             "tickcolor": "rgb(36,36,36)",
             "ticks": "outside"
            },
            "type": "contourcarpet"
           }
          ],
          "heatmap": [
           {
            "colorbar": {
             "outlinewidth": 1,
             "tickcolor": "rgb(36,36,36)",
             "ticks": "outside"
            },
            "colorscale": [
             [
              0,
              "#440154"
             ],
             [
              0.1111111111111111,
              "#482878"
             ],
             [
              0.2222222222222222,
              "#3e4989"
             ],
             [
              0.3333333333333333,
              "#31688e"
             ],
             [
              0.4444444444444444,
              "#26828e"
             ],
             [
              0.5555555555555556,
              "#1f9e89"
             ],
             [
              0.6666666666666666,
              "#35b779"
             ],
             [
              0.7777777777777778,
              "#6ece58"
             ],
             [
              0.8888888888888888,
              "#b5de2b"
             ],
             [
              1,
              "#fde725"
             ]
            ],
            "type": "heatmap"
           }
          ],
          "heatmapgl": [
           {
            "colorbar": {
             "outlinewidth": 1,
             "tickcolor": "rgb(36,36,36)",
             "ticks": "outside"
            },
            "colorscale": [
             [
              0,
              "#440154"
             ],
             [
              0.1111111111111111,
              "#482878"
             ],
             [
              0.2222222222222222,
              "#3e4989"
             ],
             [
              0.3333333333333333,
              "#31688e"
             ],
             [
              0.4444444444444444,
              "#26828e"
             ],
             [
              0.5555555555555556,
              "#1f9e89"
             ],
             [
              0.6666666666666666,
              "#35b779"
             ],
             [
              0.7777777777777778,
              "#6ece58"
             ],
             [
              0.8888888888888888,
              "#b5de2b"
             ],
             [
              1,
              "#fde725"
             ]
            ],
            "type": "heatmapgl"
           }
          ],
          "histogram": [
           {
            "marker": {
             "line": {
              "color": "white",
              "width": 0.6
             }
            },
            "type": "histogram"
           }
          ],
          "histogram2d": [
           {
            "colorbar": {
             "outlinewidth": 1,
             "tickcolor": "rgb(36,36,36)",
             "ticks": "outside"
            },
            "colorscale": [
             [
              0,
              "#440154"
             ],
             [
              0.1111111111111111,
              "#482878"
             ],
             [
              0.2222222222222222,
              "#3e4989"
             ],
             [
              0.3333333333333333,
              "#31688e"
             ],
             [
              0.4444444444444444,
              "#26828e"
             ],
             [
              0.5555555555555556,
              "#1f9e89"
             ],
             [
              0.6666666666666666,
              "#35b779"
             ],
             [
              0.7777777777777778,
              "#6ece58"
             ],
             [
              0.8888888888888888,
              "#b5de2b"
             ],
             [
              1,
              "#fde725"
             ]
            ],
            "type": "histogram2d"
           }
          ],
          "histogram2dcontour": [
           {
            "colorbar": {
             "outlinewidth": 1,
             "tickcolor": "rgb(36,36,36)",
             "ticks": "outside"
            },
            "colorscale": [
             [
              0,
              "#440154"
             ],
             [
              0.1111111111111111,
              "#482878"
             ],
             [
              0.2222222222222222,
              "#3e4989"
             ],
             [
              0.3333333333333333,
              "#31688e"
             ],
             [
              0.4444444444444444,
              "#26828e"
             ],
             [
              0.5555555555555556,
              "#1f9e89"
             ],
             [
              0.6666666666666666,
              "#35b779"
             ],
             [
              0.7777777777777778,
              "#6ece58"
             ],
             [
              0.8888888888888888,
              "#b5de2b"
             ],
             [
              1,
              "#fde725"
             ]
            ],
            "type": "histogram2dcontour"
           }
          ],
          "mesh3d": [
           {
            "colorbar": {
             "outlinewidth": 1,
             "tickcolor": "rgb(36,36,36)",
             "ticks": "outside"
            },
            "type": "mesh3d"
           }
          ],
          "parcoords": [
           {
            "line": {
             "colorbar": {
              "outlinewidth": 1,
              "tickcolor": "rgb(36,36,36)",
              "ticks": "outside"
             }
            },
            "type": "parcoords"
           }
          ],
          "pie": [
           {
            "automargin": true,
            "type": "pie"
           }
          ],
          "scatter": [
           {
            "fillpattern": {
             "fillmode": "overlay",
             "size": 10,
             "solidity": 0.2
            },
            "type": "scatter"
           }
          ],
          "scatter3d": [
           {
            "line": {
             "colorbar": {
              "outlinewidth": 1,
              "tickcolor": "rgb(36,36,36)",
              "ticks": "outside"
             }
            },
            "marker": {
             "colorbar": {
              "outlinewidth": 1,
              "tickcolor": "rgb(36,36,36)",
              "ticks": "outside"
             }
            },
            "type": "scatter3d"
           }
          ],
          "scattercarpet": [
           {
            "marker": {
             "colorbar": {
              "outlinewidth": 1,
              "tickcolor": "rgb(36,36,36)",
              "ticks": "outside"
             }
            },
            "type": "scattercarpet"
           }
          ],
          "scattergeo": [
           {
            "marker": {
             "colorbar": {
              "outlinewidth": 1,
              "tickcolor": "rgb(36,36,36)",
              "ticks": "outside"
             }
            },
            "type": "scattergeo"
           }
          ],
          "scattergl": [
           {
            "marker": {
             "colorbar": {
              "outlinewidth": 1,
              "tickcolor": "rgb(36,36,36)",
              "ticks": "outside"
             }
            },
            "type": "scattergl"
           }
          ],
          "scattermapbox": [
           {
            "marker": {
             "colorbar": {
              "outlinewidth": 1,
              "tickcolor": "rgb(36,36,36)",
              "ticks": "outside"
             }
            },
            "type": "scattermapbox"
           }
          ],
          "scatterpolar": [
           {
            "marker": {
             "colorbar": {
              "outlinewidth": 1,
              "tickcolor": "rgb(36,36,36)",
              "ticks": "outside"
             }
            },
            "type": "scatterpolar"
           }
          ],
          "scatterpolargl": [
           {
            "marker": {
             "colorbar": {
              "outlinewidth": 1,
              "tickcolor": "rgb(36,36,36)",
              "ticks": "outside"
             }
            },
            "type": "scatterpolargl"
           }
          ],
          "scatterternary": [
           {
            "marker": {
             "colorbar": {
              "outlinewidth": 1,
              "tickcolor": "rgb(36,36,36)",
              "ticks": "outside"
             }
            },
            "type": "scatterternary"
           }
          ],
          "surface": [
           {
            "colorbar": {
             "outlinewidth": 1,
             "tickcolor": "rgb(36,36,36)",
             "ticks": "outside"
            },
            "colorscale": [
             [
              0,
              "#440154"
             ],
             [
              0.1111111111111111,
              "#482878"
             ],
             [
              0.2222222222222222,
              "#3e4989"
             ],
             [
              0.3333333333333333,
              "#31688e"
             ],
             [
              0.4444444444444444,
              "#26828e"
             ],
             [
              0.5555555555555556,
              "#1f9e89"
             ],
             [
              0.6666666666666666,
              "#35b779"
             ],
             [
              0.7777777777777778,
              "#6ece58"
             ],
             [
              0.8888888888888888,
              "#b5de2b"
             ],
             [
              1,
              "#fde725"
             ]
            ],
            "type": "surface"
           }
          ],
          "table": [
           {
            "cells": {
             "fill": {
              "color": "rgb(237,237,237)"
             },
             "line": {
              "color": "white"
             }
            },
            "header": {
             "fill": {
              "color": "rgb(217,217,217)"
             },
             "line": {
              "color": "white"
             }
            },
            "type": "table"
           }
          ]
         },
         "layout": {
          "annotationdefaults": {
           "arrowhead": 0,
           "arrowwidth": 1
          },
          "autotypenumbers": "strict",
          "coloraxis": {
           "colorbar": {
            "outlinewidth": 1,
            "tickcolor": "rgb(36,36,36)",
            "ticks": "outside"
           }
          },
          "colorscale": {
           "diverging": [
            [
             0,
             "rgb(103,0,31)"
            ],
            [
             0.1,
             "rgb(178,24,43)"
            ],
            [
             0.2,
             "rgb(214,96,77)"
            ],
            [
             0.3,
             "rgb(244,165,130)"
            ],
            [
             0.4,
             "rgb(253,219,199)"
            ],
            [
             0.5,
             "rgb(247,247,247)"
            ],
            [
             0.6,
             "rgb(209,229,240)"
            ],
            [
             0.7,
             "rgb(146,197,222)"
            ],
            [
             0.8,
             "rgb(67,147,195)"
            ],
            [
             0.9,
             "rgb(33,102,172)"
            ],
            [
             1,
             "rgb(5,48,97)"
            ]
           ],
           "sequential": [
            [
             0,
             "#440154"
            ],
            [
             0.1111111111111111,
             "#482878"
            ],
            [
             0.2222222222222222,
             "#3e4989"
            ],
            [
             0.3333333333333333,
             "#31688e"
            ],
            [
             0.4444444444444444,
             "#26828e"
            ],
            [
             0.5555555555555556,
             "#1f9e89"
            ],
            [
             0.6666666666666666,
             "#35b779"
            ],
            [
             0.7777777777777778,
             "#6ece58"
            ],
            [
             0.8888888888888888,
             "#b5de2b"
            ],
            [
             1,
             "#fde725"
            ]
           ],
           "sequentialminus": [
            [
             0,
             "#440154"
            ],
            [
             0.1111111111111111,
             "#482878"
            ],
            [
             0.2222222222222222,
             "#3e4989"
            ],
            [
             0.3333333333333333,
             "#31688e"
            ],
            [
             0.4444444444444444,
             "#26828e"
            ],
            [
             0.5555555555555556,
             "#1f9e89"
            ],
            [
             0.6666666666666666,
             "#35b779"
            ],
            [
             0.7777777777777778,
             "#6ece58"
            ],
            [
             0.8888888888888888,
             "#b5de2b"
            ],
            [
             1,
             "#fde725"
            ]
           ]
          },
          "colorway": [
           "#1F77B4",
           "#FF7F0E",
           "#2CA02C",
           "#D62728",
           "#9467BD",
           "#8C564B",
           "#E377C2",
           "#7F7F7F",
           "#BCBD22",
           "#17BECF"
          ],
          "font": {
           "color": "rgb(36,36,36)"
          },
          "geo": {
           "bgcolor": "white",
           "lakecolor": "white",
           "landcolor": "white",
           "showlakes": true,
           "showland": true,
           "subunitcolor": "white"
          },
          "hoverlabel": {
           "align": "left"
          },
          "hovermode": "closest",
          "mapbox": {
           "style": "light"
          },
          "paper_bgcolor": "white",
          "plot_bgcolor": "white",
          "polar": {
           "angularaxis": {
            "gridcolor": "rgb(232,232,232)",
            "linecolor": "rgb(36,36,36)",
            "showgrid": false,
            "showline": true,
            "ticks": "outside"
           },
           "bgcolor": "white",
           "radialaxis": {
            "gridcolor": "rgb(232,232,232)",
            "linecolor": "rgb(36,36,36)",
            "showgrid": false,
            "showline": true,
            "ticks": "outside"
           }
          },
          "scene": {
           "xaxis": {
            "backgroundcolor": "white",
            "gridcolor": "rgb(232,232,232)",
            "gridwidth": 2,
            "linecolor": "rgb(36,36,36)",
            "showbackground": true,
            "showgrid": false,
            "showline": true,
            "ticks": "outside",
            "zeroline": false,
            "zerolinecolor": "rgb(36,36,36)"
           },
           "yaxis": {
            "backgroundcolor": "white",
            "gridcolor": "rgb(232,232,232)",
            "gridwidth": 2,
            "linecolor": "rgb(36,36,36)",
            "showbackground": true,
            "showgrid": false,
            "showline": true,
            "ticks": "outside",
            "zeroline": false,
            "zerolinecolor": "rgb(36,36,36)"
           },
           "zaxis": {
            "backgroundcolor": "white",
            "gridcolor": "rgb(232,232,232)",
            "gridwidth": 2,
            "linecolor": "rgb(36,36,36)",
            "showbackground": true,
            "showgrid": false,
            "showline": true,
            "ticks": "outside",
            "zeroline": false,
            "zerolinecolor": "rgb(36,36,36)"
           }
          },
          "shapedefaults": {
           "fillcolor": "black",
           "line": {
            "width": 0
           },
           "opacity": 0.3
          },
          "ternary": {
           "aaxis": {
            "gridcolor": "rgb(232,232,232)",
            "linecolor": "rgb(36,36,36)",
            "showgrid": false,
            "showline": true,
            "ticks": "outside"
           },
           "baxis": {
            "gridcolor": "rgb(232,232,232)",
            "linecolor": "rgb(36,36,36)",
            "showgrid": false,
            "showline": true,
            "ticks": "outside"
           },
           "bgcolor": "white",
           "caxis": {
            "gridcolor": "rgb(232,232,232)",
            "linecolor": "rgb(36,36,36)",
            "showgrid": false,
            "showline": true,
            "ticks": "outside"
           }
          },
          "title": {
           "x": 0.05
          },
          "xaxis": {
           "automargin": true,
           "gridcolor": "rgb(232,232,232)",
           "linecolor": "rgb(36,36,36)",
           "showgrid": false,
           "showline": true,
           "ticks": "outside",
           "title": {
            "standoff": 15
           },
           "zeroline": false,
           "zerolinecolor": "rgb(36,36,36)"
          },
          "yaxis": {
           "automargin": true,
           "gridcolor": "rgb(232,232,232)",
           "linecolor": "rgb(36,36,36)",
           "showgrid": false,
           "showline": true,
           "ticks": "outside",
           "title": {
            "standoff": 15
           },
           "zeroline": false,
           "zerolinecolor": "rgb(36,36,36)"
          }
         }
        },
        "title": {
         "text": "<b>Raincloud Plot of Penguin Flipper Lengths</b>"
        },
        "violingap": 0.3,
        "violingroupgap": 0.4,
        "violinmode": "overlay",
        "xaxis": {
         "tickmode": "array",
         "ticktext": [
          "Chinstrap",
          "Adelie",
          "Gentoo"
         ],
         "tickvals": [
          0,
          1,
          2
         ],
         "title": {
          "text": "<b>Species</b>"
         }
        },
        "yaxis": {
         "gridcolor": "lightgray",
         "showgrid": true,
         "title": {
          "text": "<b>Flipper Length (mm)</b>"
         },
         "zeroline": false
        }
       }
      },
      "text/html": [
       "<div>                            <div id=\"75c531cc-27ea-4c9b-883c-606caf84c59a\" class=\"plotly-graph-div\" style=\"height:525px; width:100%;\"></div>            <script type=\"text/javascript\">                require([\"plotly\"], function(Plotly) {                    window.PLOTLYENV=window.PLOTLYENV || {};                                    if (document.getElementById(\"75c531cc-27ea-4c9b-883c-606caf84c59a\")) {                    Plotly.newPlot(                        \"75c531cc-27ea-4c9b-883c-606caf84c59a\",                        [{\"fillcolor\":\"#6BAED6\",\"line\":{\"color\":\"black\"},\"name\":\"Chinstrap\",\"points\":false,\"showlegend\":false,\"side\":\"positive\",\"spanmode\":\"hard\",\"width\":0.6,\"x\":[0,0,0,0,0,0,0,0,0,0,0,0,0,0,0,0,0,0,0,0,0,0,0,0,0,0,0,0,0,0],\"y\":[195.0,194.0,203.0,196.0,187.0,193.0,210.0,197.0,181.0,195.0,191.0,191.0,197.0,201.0,192.0,193.0,201.0,200.0,195.0,196.0,193.0,192.0,190.0,187.0,198.0,207.0,194.0,187.0,210.0,178.0],\"type\":\"violin\"},{\"boxpoints\":false,\"marker\":{\"color\":\"black\"},\"name\":\"Chinstrap\",\"showlegend\":false,\"width\":0.2,\"x\":[0,0,0,0,0,0,0,0,0,0,0,0,0,0,0,0,0,0,0,0,0,0,0,0,0,0,0,0,0,0],\"y\":[195.0,194.0,203.0,196.0,187.0,193.0,210.0,197.0,181.0,195.0,191.0,191.0,197.0,201.0,192.0,193.0,201.0,200.0,195.0,196.0,193.0,192.0,190.0,187.0,198.0,207.0,194.0,187.0,210.0,178.0],\"type\":\"box\"},{\"marker\":{\"color\":\"#6BAED6\",\"opacity\":0.4,\"size\":5},\"mode\":\"markers\",\"name\":\"Chinstrap\",\"showlegend\":false,\"x\":[-0.05675034262829211,0.10575445002360614,-0.09445046050282899,0.11086072518836135,0.06977134229485421,0.033534175005781236,0.08017760327965706,0.06068633880789043,-0.09203638658359767,0.14194181541098408,0.10160545927485612,0.1256329580177146,-0.13580699283922953,0.02453507786573586,-0.03303684024509207,0.11148004869617881,0.057466882979440276,-0.057845827715105505,0.13521555537310595,0.10798649446369427,0.042640489274210075,0.08498209194348832,0.049656646741372296,0.05102436979867758,-0.07007657345194185,0.08960641359047539,-0.143199013353131,0.133768659747957,0.0980470012024876,0.10852147794659492],\"y\":[195.0,194.0,203.0,196.0,187.0,193.0,210.0,197.0,181.0,195.0,191.0,191.0,197.0,201.0,192.0,193.0,201.0,200.0,195.0,196.0,193.0,192.0,190.0,187.0,198.0,207.0,194.0,187.0,210.0,178.0],\"type\":\"scatter\"},{\"fillcolor\":\"#08306B\",\"line\":{\"color\":\"black\"},\"name\":\"Adelie\",\"points\":false,\"showlegend\":false,\"side\":\"positive\",\"spanmode\":\"hard\",\"width\":0.6,\"x\":[1,1,1,1,1,1,1,1,1,1,1,1,1,1,1,1,1,1,1,1,1,1,1,1,1,1,1,1,1,1,1,1,1,1,1,1,1,1,1,1,1,1,1,1,1,1,1,1,1,1,1,1,1,1,1,1,1,1,1,1,1,1,1,1,1,1,1,1,1,1,1,1],\"y\":[190.0,185.0,174.0,190.0,187.0,192.0,182.0,184.0,185.0,184.0,185.0,187.0,180.0,187.0,195.0,186.0,192.0,189.0,186.0,192.0,190.0,199.0,193.0,185.0,202.0,181.0,210.0,199.0,189.0,191.0,193.0,196.0,192.0,197.0,197.0,190.0,191.0,180.0,203.0,189.0,190.0,184.0,186.0,200.0,176.0,197.0,190.0,186.0,190.0,188.0,195.0,195.0,195.0,186.0,184.0,200.0,189.0,195.0,191.0,190.0,181.0,191.0,201.0,194.0,187.0,178.0,190.0,195.0,196.0,190.0,193.0,193.0],\"type\":\"violin\"},{\"boxpoints\":false,\"marker\":{\"color\":\"black\"},\"name\":\"Adelie\",\"showlegend\":false,\"width\":0.2,\"x\":[1,1,1,1,1,1,1,1,1,1,1,1,1,1,1,1,1,1,1,1,1,1,1,1,1,1,1,1,1,1,1,1,1,1,1,1,1,1,1,1,1,1,1,1,1,1,1,1,1,1,1,1,1,1,1,1,1,1,1,1,1,1,1,1,1,1,1,1,1,1,1,1],\"y\":[190.0,185.0,174.0,190.0,187.0,192.0,182.0,184.0,185.0,184.0,185.0,187.0,180.0,187.0,195.0,186.0,192.0,189.0,186.0,192.0,190.0,199.0,193.0,185.0,202.0,181.0,210.0,199.0,189.0,191.0,193.0,196.0,192.0,197.0,197.0,190.0,191.0,180.0,203.0,189.0,190.0,184.0,186.0,200.0,176.0,197.0,190.0,186.0,190.0,188.0,195.0,195.0,195.0,186.0,184.0,200.0,189.0,195.0,191.0,190.0,181.0,191.0,201.0,194.0,187.0,178.0,190.0,195.0,196.0,190.0,193.0,193.0],\"type\":\"box\"},{\"marker\":{\"color\":\"#08306B\",\"opacity\":0.4,\"size\":5},\"mode\":\"markers\",\"name\":\"Adelie\",\"showlegend\":false,\"x\":[1.0980945116957155,1.1320851720077623,1.059968409300787,1.1275793664490095,1.0947912888689977,0.8767966811006693,0.9880282470968802,1.1483389807577273,1.0782525750048775,0.9366420134529629,1.064635097377305,0.8855929792921027,0.999911462557945,1.1257656157381128,0.9527242380372541,1.0001760669562088,1.1172443720674494,0.8972465032519986,0.8855752514631572,1.1262419244907027,1.0124452752383053,1.1097636027192193,1.0833559951546048,0.9611982091514247,1.0145193666894738,0.981824816181921,1.1134304802195274,1.0546917093871986,0.9221159711405321,0.9906745221607477,0.9166104144370382,0.9456466672815823,1.0073522338585446,0.992770045343702,0.8656854103955058,0.966765212554525,0.9572860197979455,0.9887075286075755,0.9902991155298733,1.0442781572743571,1.1329524795844974,0.9722215766931283,0.9639462468506212,1.1179975775406528,1.1437108857713432,1.0558384627808295,0.9467609021146846,1.047780376998739,1.027759322235649,0.9314325696798629,0.8722843966569996,0.9501530163801609,1.0742338193267793,1.0453485478498274,0.9420290519122103,1.132338246706967,1.1245982933026455,0.9976622007452137,1.1235676519001379,0.9965683375929266,0.9333470292472111,1.0525547013892784,1.1255805612366678,0.9254749860151434,0.9570074859255764,0.9323864439378119,1.146530872507906,0.8973483010390941,1.0337343132384154,1.1285877858990245,0.9082552343236283,0.9861106848230369],\"y\":[190.0,185.0,174.0,190.0,187.0,192.0,182.0,184.0,185.0,184.0,185.0,187.0,180.0,187.0,195.0,186.0,192.0,189.0,186.0,192.0,190.0,199.0,193.0,185.0,202.0,181.0,210.0,199.0,189.0,191.0,193.0,196.0,192.0,197.0,197.0,190.0,191.0,180.0,203.0,189.0,190.0,184.0,186.0,200.0,176.0,197.0,190.0,186.0,190.0,188.0,195.0,195.0,195.0,186.0,184.0,200.0,189.0,195.0,191.0,190.0,181.0,191.0,201.0,194.0,187.0,178.0,190.0,195.0,196.0,190.0,193.0,193.0],\"type\":\"scatter\"},{\"fillcolor\":\"#2171B5\",\"line\":{\"color\":\"black\"},\"name\":\"Gentoo\",\"points\":false,\"showlegend\":false,\"side\":\"positive\",\"spanmode\":\"hard\",\"width\":0.6,\"x\":[2,2,2,2,2,2,2,2,2,2,2,2,2,2,2,2,2,2,2,2,2,2,2,2,2,2,2,2,2,2,2,2,2,2,2,2,2,2,2,2,2,2,2,2,2,2,2,2,2,2,2,2,2,2,2,2,2,2,2,2,2,2,2,2,2],\"y\":[222.0,230.0,223.0,211.0,219.0,214.0,215.0,224.0,216.0,217.0,210.0,223.0,215.0,228.0,212.0,213.0,230.0,214.0,222.0,215.0,213.0,219.0,210.0,214.0,220.0,230.0,225.0,228.0,218.0,215.0,216.0,222.0,213.0,210.0,216.0,217.0,208.0,210.0,216.0,220.0,225.0,221.0,213.0,217.0,210.0,212.0,212.0,217.0,213.0,219.0,212.0,216.0,214.0,216.0,208.0,221.0,220.0,228.0,210.0,230.0,210.0,228.0,209.0,209.0,210.0],\"type\":\"violin\"},{\"boxpoints\":false,\"marker\":{\"color\":\"black\"},\"name\":\"Gentoo\",\"showlegend\":false,\"width\":0.2,\"x\":[2,2,2,2,2,2,2,2,2,2,2,2,2,2,2,2,2,2,2,2,2,2,2,2,2,2,2,2,2,2,2,2,2,2,2,2,2,2,2,2,2,2,2,2,2,2,2,2,2,2,2,2,2,2,2,2,2,2,2,2,2,2,2,2,2],\"y\":[222.0,230.0,223.0,211.0,219.0,214.0,215.0,224.0,216.0,217.0,210.0,223.0,215.0,228.0,212.0,213.0,230.0,214.0,222.0,215.0,213.0,219.0,210.0,214.0,220.0,230.0,225.0,228.0,218.0,215.0,216.0,222.0,213.0,210.0,216.0,217.0,208.0,210.0,216.0,220.0,225.0,221.0,213.0,217.0,210.0,212.0,212.0,217.0,213.0,219.0,212.0,216.0,214.0,216.0,208.0,221.0,220.0,228.0,210.0,230.0,210.0,228.0,209.0,209.0,210.0],\"type\":\"box\"},{\"marker\":{\"color\":\"#2171B5\",\"opacity\":0.4,\"size\":5},\"mode\":\"markers\",\"name\":\"Gentoo\",\"showlegend\":false,\"x\":[2.0410581405049575,1.879190526210531,1.9841907197734991,1.9802517085181959,1.934922611111454,1.8663308722266163,1.971185986207975,2.058329992643347,2.114714873873336,2.1126744959249795,1.9092194096306057,1.9724185340434452,2.0910915132191614,2.0735327103751398,1.9289966646615064,1.9940177275531936,2.0538926297427818,1.8803902881201369,1.973542356565014,1.9860232333263566,1.8649718523715948,1.8710782744298853,2.117770840508061,2.1368762646434134,1.9430709023413293,2.0393474993725222,2.106619670341324,2.0510306735995445,2.0659834167613966,2.1486595207617367,2.0694923044988363,2.008943301150458,2.1300882696764774,1.9135434482482614,2.0691070627392,2.0305164149440085,2.0214103988431225,2.0607788260712088,2.041607602329058,1.8784190099760671,2.0265007701782354,2.1393980750285944,2.0938989990389816,1.9481436890200323,1.9948236430288497,2.0681520436600622,2.1342309705014726,2.0660929186190735,2.127158849616885,2.0745419119411213,1.8596371525752526,2.060431791679651,2.1395280829652177,1.9415737472034569,2.0972388300478477,1.913900303460232,2.024553366759943,2.0335222039044902,1.9877836430649067,2.1467444845218395,1.9194648101993563,1.8515693266210624,2.0798071954541113,2.0342479159451927,2.106191139620765],\"y\":[222.0,230.0,223.0,211.0,219.0,214.0,215.0,224.0,216.0,217.0,210.0,223.0,215.0,228.0,212.0,213.0,230.0,214.0,222.0,215.0,213.0,219.0,210.0,214.0,220.0,230.0,225.0,228.0,218.0,215.0,216.0,222.0,213.0,210.0,216.0,217.0,208.0,210.0,216.0,220.0,225.0,221.0,213.0,217.0,210.0,212.0,212.0,217.0,213.0,219.0,212.0,216.0,214.0,216.0,208.0,221.0,220.0,228.0,210.0,230.0,210.0,228.0,209.0,209.0,210.0],\"type\":\"scatter\"}],                        {\"template\":{\"data\":{\"barpolar\":[{\"marker\":{\"line\":{\"color\":\"white\",\"width\":0.5},\"pattern\":{\"fillmode\":\"overlay\",\"size\":10,\"solidity\":0.2}},\"type\":\"barpolar\"}],\"bar\":[{\"error_x\":{\"color\":\"rgb(36,36,36)\"},\"error_y\":{\"color\":\"rgb(36,36,36)\"},\"marker\":{\"line\":{\"color\":\"white\",\"width\":0.5},\"pattern\":{\"fillmode\":\"overlay\",\"size\":10,\"solidity\":0.2}},\"type\":\"bar\"}],\"carpet\":[{\"aaxis\":{\"endlinecolor\":\"rgb(36,36,36)\",\"gridcolor\":\"white\",\"linecolor\":\"white\",\"minorgridcolor\":\"white\",\"startlinecolor\":\"rgb(36,36,36)\"},\"baxis\":{\"endlinecolor\":\"rgb(36,36,36)\",\"gridcolor\":\"white\",\"linecolor\":\"white\",\"minorgridcolor\":\"white\",\"startlinecolor\":\"rgb(36,36,36)\"},\"type\":\"carpet\"}],\"choropleth\":[{\"colorbar\":{\"outlinewidth\":1,\"tickcolor\":\"rgb(36,36,36)\",\"ticks\":\"outside\"},\"type\":\"choropleth\"}],\"contourcarpet\":[{\"colorbar\":{\"outlinewidth\":1,\"tickcolor\":\"rgb(36,36,36)\",\"ticks\":\"outside\"},\"type\":\"contourcarpet\"}],\"contour\":[{\"colorbar\":{\"outlinewidth\":1,\"tickcolor\":\"rgb(36,36,36)\",\"ticks\":\"outside\"},\"colorscale\":[[0.0,\"#440154\"],[0.1111111111111111,\"#482878\"],[0.2222222222222222,\"#3e4989\"],[0.3333333333333333,\"#31688e\"],[0.4444444444444444,\"#26828e\"],[0.5555555555555556,\"#1f9e89\"],[0.6666666666666666,\"#35b779\"],[0.7777777777777778,\"#6ece58\"],[0.8888888888888888,\"#b5de2b\"],[1.0,\"#fde725\"]],\"type\":\"contour\"}],\"heatmapgl\":[{\"colorbar\":{\"outlinewidth\":1,\"tickcolor\":\"rgb(36,36,36)\",\"ticks\":\"outside\"},\"colorscale\":[[0.0,\"#440154\"],[0.1111111111111111,\"#482878\"],[0.2222222222222222,\"#3e4989\"],[0.3333333333333333,\"#31688e\"],[0.4444444444444444,\"#26828e\"],[0.5555555555555556,\"#1f9e89\"],[0.6666666666666666,\"#35b779\"],[0.7777777777777778,\"#6ece58\"],[0.8888888888888888,\"#b5de2b\"],[1.0,\"#fde725\"]],\"type\":\"heatmapgl\"}],\"heatmap\":[{\"colorbar\":{\"outlinewidth\":1,\"tickcolor\":\"rgb(36,36,36)\",\"ticks\":\"outside\"},\"colorscale\":[[0.0,\"#440154\"],[0.1111111111111111,\"#482878\"],[0.2222222222222222,\"#3e4989\"],[0.3333333333333333,\"#31688e\"],[0.4444444444444444,\"#26828e\"],[0.5555555555555556,\"#1f9e89\"],[0.6666666666666666,\"#35b779\"],[0.7777777777777778,\"#6ece58\"],[0.8888888888888888,\"#b5de2b\"],[1.0,\"#fde725\"]],\"type\":\"heatmap\"}],\"histogram2dcontour\":[{\"colorbar\":{\"outlinewidth\":1,\"tickcolor\":\"rgb(36,36,36)\",\"ticks\":\"outside\"},\"colorscale\":[[0.0,\"#440154\"],[0.1111111111111111,\"#482878\"],[0.2222222222222222,\"#3e4989\"],[0.3333333333333333,\"#31688e\"],[0.4444444444444444,\"#26828e\"],[0.5555555555555556,\"#1f9e89\"],[0.6666666666666666,\"#35b779\"],[0.7777777777777778,\"#6ece58\"],[0.8888888888888888,\"#b5de2b\"],[1.0,\"#fde725\"]],\"type\":\"histogram2dcontour\"}],\"histogram2d\":[{\"colorbar\":{\"outlinewidth\":1,\"tickcolor\":\"rgb(36,36,36)\",\"ticks\":\"outside\"},\"colorscale\":[[0.0,\"#440154\"],[0.1111111111111111,\"#482878\"],[0.2222222222222222,\"#3e4989\"],[0.3333333333333333,\"#31688e\"],[0.4444444444444444,\"#26828e\"],[0.5555555555555556,\"#1f9e89\"],[0.6666666666666666,\"#35b779\"],[0.7777777777777778,\"#6ece58\"],[0.8888888888888888,\"#b5de2b\"],[1.0,\"#fde725\"]],\"type\":\"histogram2d\"}],\"histogram\":[{\"marker\":{\"line\":{\"color\":\"white\",\"width\":0.6}},\"type\":\"histogram\"}],\"mesh3d\":[{\"colorbar\":{\"outlinewidth\":1,\"tickcolor\":\"rgb(36,36,36)\",\"ticks\":\"outside\"},\"type\":\"mesh3d\"}],\"parcoords\":[{\"line\":{\"colorbar\":{\"outlinewidth\":1,\"tickcolor\":\"rgb(36,36,36)\",\"ticks\":\"outside\"}},\"type\":\"parcoords\"}],\"pie\":[{\"automargin\":true,\"type\":\"pie\"}],\"scatter3d\":[{\"line\":{\"colorbar\":{\"outlinewidth\":1,\"tickcolor\":\"rgb(36,36,36)\",\"ticks\":\"outside\"}},\"marker\":{\"colorbar\":{\"outlinewidth\":1,\"tickcolor\":\"rgb(36,36,36)\",\"ticks\":\"outside\"}},\"type\":\"scatter3d\"}],\"scattercarpet\":[{\"marker\":{\"colorbar\":{\"outlinewidth\":1,\"tickcolor\":\"rgb(36,36,36)\",\"ticks\":\"outside\"}},\"type\":\"scattercarpet\"}],\"scattergeo\":[{\"marker\":{\"colorbar\":{\"outlinewidth\":1,\"tickcolor\":\"rgb(36,36,36)\",\"ticks\":\"outside\"}},\"type\":\"scattergeo\"}],\"scattergl\":[{\"marker\":{\"colorbar\":{\"outlinewidth\":1,\"tickcolor\":\"rgb(36,36,36)\",\"ticks\":\"outside\"}},\"type\":\"scattergl\"}],\"scattermapbox\":[{\"marker\":{\"colorbar\":{\"outlinewidth\":1,\"tickcolor\":\"rgb(36,36,36)\",\"ticks\":\"outside\"}},\"type\":\"scattermapbox\"}],\"scatterpolargl\":[{\"marker\":{\"colorbar\":{\"outlinewidth\":1,\"tickcolor\":\"rgb(36,36,36)\",\"ticks\":\"outside\"}},\"type\":\"scatterpolargl\"}],\"scatterpolar\":[{\"marker\":{\"colorbar\":{\"outlinewidth\":1,\"tickcolor\":\"rgb(36,36,36)\",\"ticks\":\"outside\"}},\"type\":\"scatterpolar\"}],\"scatter\":[{\"fillpattern\":{\"fillmode\":\"overlay\",\"size\":10,\"solidity\":0.2},\"type\":\"scatter\"}],\"scatterternary\":[{\"marker\":{\"colorbar\":{\"outlinewidth\":1,\"tickcolor\":\"rgb(36,36,36)\",\"ticks\":\"outside\"}},\"type\":\"scatterternary\"}],\"surface\":[{\"colorbar\":{\"outlinewidth\":1,\"tickcolor\":\"rgb(36,36,36)\",\"ticks\":\"outside\"},\"colorscale\":[[0.0,\"#440154\"],[0.1111111111111111,\"#482878\"],[0.2222222222222222,\"#3e4989\"],[0.3333333333333333,\"#31688e\"],[0.4444444444444444,\"#26828e\"],[0.5555555555555556,\"#1f9e89\"],[0.6666666666666666,\"#35b779\"],[0.7777777777777778,\"#6ece58\"],[0.8888888888888888,\"#b5de2b\"],[1.0,\"#fde725\"]],\"type\":\"surface\"}],\"table\":[{\"cells\":{\"fill\":{\"color\":\"rgb(237,237,237)\"},\"line\":{\"color\":\"white\"}},\"header\":{\"fill\":{\"color\":\"rgb(217,217,217)\"},\"line\":{\"color\":\"white\"}},\"type\":\"table\"}]},\"layout\":{\"annotationdefaults\":{\"arrowhead\":0,\"arrowwidth\":1},\"autotypenumbers\":\"strict\",\"coloraxis\":{\"colorbar\":{\"outlinewidth\":1,\"tickcolor\":\"rgb(36,36,36)\",\"ticks\":\"outside\"}},\"colorscale\":{\"diverging\":[[0.0,\"rgb(103,0,31)\"],[0.1,\"rgb(178,24,43)\"],[0.2,\"rgb(214,96,77)\"],[0.3,\"rgb(244,165,130)\"],[0.4,\"rgb(253,219,199)\"],[0.5,\"rgb(247,247,247)\"],[0.6,\"rgb(209,229,240)\"],[0.7,\"rgb(146,197,222)\"],[0.8,\"rgb(67,147,195)\"],[0.9,\"rgb(33,102,172)\"],[1.0,\"rgb(5,48,97)\"]],\"sequential\":[[0.0,\"#440154\"],[0.1111111111111111,\"#482878\"],[0.2222222222222222,\"#3e4989\"],[0.3333333333333333,\"#31688e\"],[0.4444444444444444,\"#26828e\"],[0.5555555555555556,\"#1f9e89\"],[0.6666666666666666,\"#35b779\"],[0.7777777777777778,\"#6ece58\"],[0.8888888888888888,\"#b5de2b\"],[1.0,\"#fde725\"]],\"sequentialminus\":[[0.0,\"#440154\"],[0.1111111111111111,\"#482878\"],[0.2222222222222222,\"#3e4989\"],[0.3333333333333333,\"#31688e\"],[0.4444444444444444,\"#26828e\"],[0.5555555555555556,\"#1f9e89\"],[0.6666666666666666,\"#35b779\"],[0.7777777777777778,\"#6ece58\"],[0.8888888888888888,\"#b5de2b\"],[1.0,\"#fde725\"]]},\"colorway\":[\"#1F77B4\",\"#FF7F0E\",\"#2CA02C\",\"#D62728\",\"#9467BD\",\"#8C564B\",\"#E377C2\",\"#7F7F7F\",\"#BCBD22\",\"#17BECF\"],\"font\":{\"color\":\"rgb(36,36,36)\"},\"geo\":{\"bgcolor\":\"white\",\"lakecolor\":\"white\",\"landcolor\":\"white\",\"showlakes\":true,\"showland\":true,\"subunitcolor\":\"white\"},\"hoverlabel\":{\"align\":\"left\"},\"hovermode\":\"closest\",\"mapbox\":{\"style\":\"light\"},\"paper_bgcolor\":\"white\",\"plot_bgcolor\":\"white\",\"polar\":{\"angularaxis\":{\"gridcolor\":\"rgb(232,232,232)\",\"linecolor\":\"rgb(36,36,36)\",\"showgrid\":false,\"showline\":true,\"ticks\":\"outside\"},\"bgcolor\":\"white\",\"radialaxis\":{\"gridcolor\":\"rgb(232,232,232)\",\"linecolor\":\"rgb(36,36,36)\",\"showgrid\":false,\"showline\":true,\"ticks\":\"outside\"}},\"scene\":{\"xaxis\":{\"backgroundcolor\":\"white\",\"gridcolor\":\"rgb(232,232,232)\",\"gridwidth\":2,\"linecolor\":\"rgb(36,36,36)\",\"showbackground\":true,\"showgrid\":false,\"showline\":true,\"ticks\":\"outside\",\"zeroline\":false,\"zerolinecolor\":\"rgb(36,36,36)\"},\"yaxis\":{\"backgroundcolor\":\"white\",\"gridcolor\":\"rgb(232,232,232)\",\"gridwidth\":2,\"linecolor\":\"rgb(36,36,36)\",\"showbackground\":true,\"showgrid\":false,\"showline\":true,\"ticks\":\"outside\",\"zeroline\":false,\"zerolinecolor\":\"rgb(36,36,36)\"},\"zaxis\":{\"backgroundcolor\":\"white\",\"gridcolor\":\"rgb(232,232,232)\",\"gridwidth\":2,\"linecolor\":\"rgb(36,36,36)\",\"showbackground\":true,\"showgrid\":false,\"showline\":true,\"ticks\":\"outside\",\"zeroline\":false,\"zerolinecolor\":\"rgb(36,36,36)\"}},\"shapedefaults\":{\"fillcolor\":\"black\",\"line\":{\"width\":0},\"opacity\":0.3},\"ternary\":{\"aaxis\":{\"gridcolor\":\"rgb(232,232,232)\",\"linecolor\":\"rgb(36,36,36)\",\"showgrid\":false,\"showline\":true,\"ticks\":\"outside\"},\"baxis\":{\"gridcolor\":\"rgb(232,232,232)\",\"linecolor\":\"rgb(36,36,36)\",\"showgrid\":false,\"showline\":true,\"ticks\":\"outside\"},\"bgcolor\":\"white\",\"caxis\":{\"gridcolor\":\"rgb(232,232,232)\",\"linecolor\":\"rgb(36,36,36)\",\"showgrid\":false,\"showline\":true,\"ticks\":\"outside\"}},\"title\":{\"x\":0.05},\"xaxis\":{\"automargin\":true,\"gridcolor\":\"rgb(232,232,232)\",\"linecolor\":\"rgb(36,36,36)\",\"showgrid\":false,\"showline\":true,\"ticks\":\"outside\",\"title\":{\"standoff\":15},\"zeroline\":false,\"zerolinecolor\":\"rgb(36,36,36)\"},\"yaxis\":{\"automargin\":true,\"gridcolor\":\"rgb(232,232,232)\",\"linecolor\":\"rgb(36,36,36)\",\"showgrid\":false,\"showline\":true,\"ticks\":\"outside\",\"title\":{\"standoff\":15},\"zeroline\":false,\"zerolinecolor\":\"rgb(36,36,36)\"}}},\"xaxis\":{\"title\":{\"text\":\"<b>Species</b>\"},\"tickmode\":\"array\",\"tickvals\":[0,1,2],\"ticktext\":[\"Chinstrap\",\"Adelie\",\"Gentoo\"]},\"yaxis\":{\"title\":{\"text\":\"<b>Flipper Length (mm)</b>\"},\"showgrid\":true,\"gridcolor\":\"lightgray\",\"zeroline\":false},\"font\":{\"size\":14},\"title\":{\"text\":\"<b>Raincloud Plot of Penguin Flipper Lengths</b>\"},\"violingap\":0.3,\"violingroupgap\":0.4,\"violinmode\":\"overlay\"},                        {\"responsive\": true}                    ).then(function(){\n",
       "                            \n",
       "var gd = document.getElementById('75c531cc-27ea-4c9b-883c-606caf84c59a');\n",
       "var x = new MutationObserver(function (mutations, observer) {{\n",
       "        var display = window.getComputedStyle(gd).display;\n",
       "        if (!display || display === 'none') {{\n",
       "            console.log([gd, 'removed!']);\n",
       "            Plotly.purge(gd);\n",
       "            observer.disconnect();\n",
       "        }}\n",
       "}});\n",
       "\n",
       "// Listen for the removal of the full notebook cells\n",
       "var notebookContainer = gd.closest('#notebook-container');\n",
       "if (notebookContainer) {{\n",
       "    x.observe(notebookContainer, {childList: true});\n",
       "}}\n",
       "\n",
       "// Listen for the clearing of the current output cell\n",
       "var outputEl = gd.closest('.output');\n",
       "if (outputEl) {{\n",
       "    x.observe(outputEl, {childList: true});\n",
       "}}\n",
       "\n",
       "                        })                };                });            </script>        </div>"
      ]
     },
     "metadata": {},
     "output_type": "display_data"
    }
   ],
   "source": [
    "species_list = df['species'].unique()\n",
    "raincloud_fig = go.Figure()\n",
    "\n",
    "colors = {\n",
    "    \"Adelie\": \"#08306B\", #all different hues of blue\n",
    "    \"Gentoo\": \"#2171B5\",\n",
    "    \"Chinstrap\": \"#6BAED6\" }\n",
    "\n",
    "for i, species in enumerate(species_list):\n",
    "    subset = df[df['species'] == species]\n",
    "\n",
    "    # Half violin (distribution)\n",
    "    raincloud_fig.add_trace(go.Violin(\n",
    "        x=[i]*len(subset),\n",
    "        y=subset['flipper_length_mm'],\n",
    "        name=species,\n",
    "        side='positive',\n",
    "        line_color='black',\n",
    "        fillcolor=colors[species],\n",
    "        width=0.6,\n",
    "        points=False,\n",
    "        spanmode='hard',\n",
    "        showlegend=False))\n",
    "\n",
    "    # Box plot\n",
    "    raincloud_fig.add_trace(go.Box(\n",
    "        x=[i]*len(subset),\n",
    "        y=subset['flipper_length_mm'],\n",
    "        name=species,\n",
    "        marker_color='black',\n",
    "        width=0.2,\n",
    "        boxpoints=False,\n",
    "        showlegend=False))\n",
    "\n",
    "    # Jittered scatter plot\n",
    "    jitter_strength = 0.15 \n",
    "    x_jittered = np.random.uniform(-jitter_strength, jitter_strength, size=len(subset)) + i #adding jitter to points\n",
    "\n",
    "    raincloud_fig.add_trace(go.Scatter(\n",
    "        x=x_jittered,\n",
    "        y=subset['flipper_length_mm'],\n",
    "        mode='markers',\n",
    "        marker=dict(color=colors[species], opacity=0.4, size=5), #scatter point aesthetics\n",
    "        name=species,\n",
    "        showlegend=False))\n",
    "\n",
    "# Update layout\n",
    "raincloud_fig.update_layout(\n",
    "    title=\"<b>Raincloud Plot of Penguin Flipper Lengths</b>\", # plot title, <b> bolds text\n",
    "    yaxis_title=\"Flipper Length (mm)\",\n",
    "    xaxis=dict(\n",
    "        title=\"<b>Species</b>\",\n",
    "        tickmode='array',\n",
    "        tickvals=list(range(len(species_list))),\n",
    "        ticktext=species_list),\n",
    "    yaxis=dict(\n",
    "    title=\"<b>Flipper Length (mm)</b>\",\n",
    "    showgrid=True,\n",
    "    gridcolor='lightgray', #addign horizontal grid\n",
    "    zeroline=False\n",
    "    ),\n",
    "    violingap=0.3,\n",
    "    violingroupgap=0.4,\n",
    "    violinmode='overlay',\n",
    "    template='simple_white', #white background\n",
    "    font=dict(size=14))\n",
    "\n",
    "raincloud_fig.show()\n"
   ]
  },
  {
   "cell_type": "markdown",
   "id": "4f055cf2",
   "metadata": {},
   "source": [
    "*Thank you for reading!*"
   ]
  }
 ],
 "metadata": {
  "kernelspec": {
   "display_name": "Python 3 (ipykernel)",
   "language": "python",
   "name": "python3"
  },
  "language_info": {
   "codemirror_mode": {
    "name": "ipython",
    "version": 3
   },
   "file_extension": ".py",
   "mimetype": "text/x-python",
   "name": "python",
   "nbconvert_exporter": "python",
   "pygments_lexer": "ipython3",
   "version": "3.11.5"
  }
 },
 "nbformat": 4,
 "nbformat_minor": 5
}
